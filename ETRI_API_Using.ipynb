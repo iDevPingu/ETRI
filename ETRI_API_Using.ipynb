{
 "cells": [
  {
   "cell_type": "code",
   "execution_count": 2,
   "metadata": {},
   "outputs": [],
   "source": [
    "\n",
    "#HJI\n",
    "import urllib3\n",
    "import json\n"
   ]
  },
  {
   "cell_type": "code",
   "execution_count": 6,
   "metadata": {},
   "outputs": [],
   "source": [
    "f = open(\"조커리뷰.txt\",'r',encoding='UTF-8')\n",
    "형태소카운터 = {}\n",
    "name = f.name"
   ]
  },
  {
   "cell_type": "code",
   "execution_count": 7,
   "metadata": {},
   "outputs": [],
   "source": [
    "switch = True\n",
    "while(switch):\n",
    "    댓글뭉치 = ''\n",
    "    for i in range(50):\n",
    "        text = f.readline()\n",
    "        댓글뭉치 += text\n",
    "        \n",
    "    if text == '':\n",
    "        switch = False\n",
    "    elif text == '\\n':\n",
    "        continue\n",
    "    else:\n",
    "        openApiURL = \"http://aiopen.etri.re.kr:8000/WiseNLU\"\n",
    "        accessKey = \"3314db0e-ee18-4aff-bd16-e85e2a503569\"\n",
    "        analysisCode = \"srl\"\n",
    "        text = 댓글뭉치\n",
    "\n",
    "        requestJson = {\n",
    "            \"access_key\": accessKey,\n",
    "            \"argument\": {\n",
    "                \"text\": text,\n",
    "                \"analysis_code\": analysisCode\n",
    "            }\n",
    "        }\n",
    "\n",
    "        http = urllib3.PoolManager()\n",
    "        response = http.request(\n",
    "            \"POST\",\n",
    "            openApiURL,\n",
    "            headers={\"Content-Type\": \"application/json; charset=UTF-8\"},\n",
    "            body=json.dumps(requestJson)\n",
    "        )\n",
    "\n",
    "        a = response.data.decode('utf-8')\n",
    "        result = json.loads(a)\n",
    "        \n",
    "        for l in result['return_object']['sentence']:\n",
    "            for i in l['morp']: \n",
    "                if i['lemma'] not in 형태소카운터.keys() and (i['type']=='NNP' or i['type']=='NNG') :\n",
    "                    형태소카운터[i['lemma']] = [1,i['type']]\n",
    "                elif i['lemma'] in 형태소카운터.keys() and (i['type']=='NNP' or i['type']=='NNG'):\n",
    "                    형태소카운터[i['lemma']][0]+=1\n",
    "\n"
   ]
  }
 ],
 "metadata": {
  "kernelspec": {
   "display_name": "Python 3",
   "language": "python",
   "name": "python3"
  },
  "language_info": {
   "codemirror_mode": {
    "name": "ipython",
    "version": 3
   },
   "file_extension": ".py",
   "mimetype": "text/x-python",
   "name": "python",
   "nbconvert_exporter": "python",
   "pygments_lexer": "ipython3",
   "version": "3.7.0"
  }
 },
 "nbformat": 4,
 "nbformat_minor": 2
}
