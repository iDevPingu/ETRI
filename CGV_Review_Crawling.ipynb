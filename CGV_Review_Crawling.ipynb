{
 "cells": [
  {
   "cell_type": "code",
   "execution_count": 3,
   "metadata": {},
   "outputs": [],
   "source": [
    "#HJI\n",
    "from selenium import webdriver\n",
    "from bs4 import BeautifulSoup\n",
    "import json\n",
    "import time"
   ]
  },
  {
   "cell_type": "code",
   "execution_count": 41,
   "metadata": {},
   "outputs": [],
   "source": [
    "driver = webdriver.Chrome('chromedriver.exe')\n",
    "driver.implicitly_wait(3)\n",
    "driver.get('http://www.cgv.co.kr/movies/detail-view/?midx=82377')\n",
    "\n",
    "savetext= ''"
   ]
  },
  {
   "cell_type": "code",
   "execution_count": 45,
   "metadata": {},
   "outputs": [],
   "source": [
    "\n",
    "switch = True\n",
    "while(switch):\n",
    "    #1~10페이지\n",
    "    if len(driver.find_elements_by_xpath('//*[@id=\"paging_point\"]/li')) == 12:\n",
    "        for n in range(2,12):\n",
    "            if n != 12:\n",
    "                for i in driver.find_elements_by_class_name('box-comment'):\n",
    "                    savetext += (i.text + '\\n')\n",
    "                driver.find_element_by_xpath('//*[@id=\"paging_point\"]/li[{}]'.format(n)).click()\n",
    "                time.sleep(1)\n",
    "\n",
    "            elif n == 12:\n",
    "                driver.find_element_by_xpath('//*[@id=\"paging_point\"]/li[{}]'.format(n)).click()\n",
    "                time.sleep(1)\n",
    "\n",
    "    #11~end페이지\n",
    "    elif len(driver.find_elements_by_xpath('//*[@id=\"paging_point\"]/li')) == 14:\n",
    "        for n in range(4,14):\n",
    "            if n !=13:\n",
    "                for i in driver.find_elements_by_class_name('box-comment'):\n",
    "                    savetext += (i.text + '\\n')\n",
    "                driver.find_element_by_xpath('//*[@id=\"paging_point\"]/li[{}]'.format(n)).click()\n",
    "                time.sleep(1)\n",
    "\n",
    "            elif n == 13:\n",
    "                driver.find_element_by_xpath('//*[@id=\"paging_point\"]/li[{}]'.format(n)).click()\n",
    "                time.sleep(1)\n",
    "\n",
    "    #마지막페이지\n",
    "    else:\n",
    "        num = len(driver.find_elements_by_xpath('//*[@id=\"paging_point\"]/li'))\n",
    "        for n in range(3,num+2):\n",
    "            if n == num-1:\n",
    "                for i in driver.find_elements_by_class_name('box-comment'):\n",
    "                    savetext += (i.text + '\\n')\n",
    "                driver.close()\n",
    "                switch = False\n",
    "            else:\n",
    "                for i in driver.find_elements_by_class_name('box-comment'):\n",
    "                    savetext += (i.text + '\\n')\n",
    "                driver.find_element_by_xpath('//*[@id=\"paging_point\"]/li[{}]'.format(n)).click()\n",
    "                time.sleep(1)\n",
    "\n",
    "\n"
   ]
  }
 ],
 "metadata": {
  "kernelspec": {
   "display_name": "Python 3",
   "language": "python",
   "name": "python3"
  },
  "language_info": {
   "codemirror_mode": {
    "name": "ipython",
    "version": 3
   },
   "file_extension": ".py",
   "mimetype": "text/x-python",
   "name": "python",
   "nbconvert_exporter": "python",
   "pygments_lexer": "ipython3",
   "version": "3.7.0"
  }
 },
 "nbformat": 4,
 "nbformat_minor": 2
}
